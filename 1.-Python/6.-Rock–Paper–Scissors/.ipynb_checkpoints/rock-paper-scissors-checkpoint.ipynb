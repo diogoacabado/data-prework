{
 "cells": [
  {
   "cell_type": "markdown",
   "metadata": {},
   "source": [
    "<img src=\"https://bit.ly/2VnXWr2\" width=\"100\" align=\"left\">"
   ]
  },
  {
   "cell_type": "markdown",
   "metadata": {},
   "source": [
    "# Rock, Paper & Scissors\n",
    "\n",
    "Let's play the famous game against our computer. You can check the rules [here](https://en.wikipedia.org/wiki/Rock%E2%80%93paper%E2%80%93scissors). \n",
    "\n",
    "## Task\n",
    "Create a program that imitates the playability of the well known game of rock, paper, scissors. Follow the guidelines provided.\n",
    "\n",
    "## Tools\n",
    "1. Loop: **for/while**\n",
    "2. Functions: **input(), print()...**\n",
    "3. Conditional statements: **if, elif, else**\n",
    "4. Definition of functions. Modular programming\n",
    "5. Import modules\n",
    "\n",
    "**To solve this challenge, the use of functions is recommended.**\n",
    "\n",
    "#### 1. Import the choice function of the random module."
   ]
  },
  {
   "cell_type": "code",
   "execution_count": null,
   "metadata": {},
   "outputs": [],
   "source": [
    "from random import choice\n",
    "from random import randrange"
   ]
  },
  {
   "cell_type": "markdown",
   "metadata": {},
   "source": [
    "#### 2. Create a list that includes the 3 possible gesture options of the game: 'rock', 'paper' or 'scissors'. Store the list in a variable called `gestures`."
   ]
  },
  {
   "cell_type": "code",
   "execution_count": null,
   "metadata": {},
   "outputs": [],
   "source": [
    "gestures = ['rock', 'paper', 'scissors']"
   ]
  },
  {
   "cell_type": "markdown",
   "metadata": {},
   "source": [
    "#### 3. Create a variable called `n_rounds` to store the maximum number of rounds to play in a game. \n",
    "Remember that the number of rounds must be odd: 1, 3, 5, ..."
   ]
  },
  {
   "cell_type": "code",
   "execution_count": null,
   "metadata": {},
   "outputs": [],
   "source": [
    "#Assuming a game doesn't have more than 19 rounds\n",
    "n_rounds = randrange(1,20,2)\n",
    "print('This game will have a maximum of', n_rounds, 'rounds')"
   ]
  },
  {
   "cell_type": "markdown",
   "metadata": {},
   "source": [
    "#### 4. Create a variable called `rounds_to_win` to store the number of rounds that a player must win to win the game.\n",
    "**Hint**: the value stored in `rounds_to_win` depends on the value of `n_rounds`. "
   ]
  },
  {
   "cell_type": "code",
   "execution_count": null,
   "metadata": {},
   "outputs": [],
   "source": [
    "rounds_to_win = round((n_rounds + 1)/2)\n",
    "print('A game is won if one of the parties wins', rounds_to_win, 'rounds')"
   ]
  },
  {
   "cell_type": "markdown",
   "metadata": {},
   "source": [
    "#### 5. Create two variables to store the number of rounds that the computer and the player have won. Call these variables `cpu_score` and `player_score`."
   ]
  },
  {
   "cell_type": "code",
   "execution_count": null,
   "metadata": {},
   "outputs": [],
   "source": [
    "#Initial scores set to zero\n",
    "cpu_score = 0\n",
    "player_score = 0"
   ]
  },
  {
   "cell_type": "markdown",
   "metadata": {},
   "source": [
    "#### 6. Define a function that randomly returns one of the 3 gesture options.\n",
    "You will use this function to simulate the gesture choice of the computer. "
   ]
  },
  {
   "cell_type": "code",
   "execution_count": null,
   "metadata": {},
   "outputs": [],
   "source": [
    "def cpu_choice():\n",
    "    return choice(gestures)"
   ]
  },
  {
   "cell_type": "markdown",
   "metadata": {},
   "source": [
    "#### 7. Define a function that asks the player which is the gesture he or she wants to show: 'rock', 'paper' or 'scissors'.\n",
    "The player should only be allowed to choose one of the 3 gesture options. If the player's choice is not rock, paper or scissors, keep asking until it is."
   ]
  },
  {
   "cell_type": "code",
   "execution_count": null,
   "metadata": {},
   "outputs": [],
   "source": [
    "def player_choice():\n",
    "    gesture = input('Choose rock, paper or scissors: ')\n",
    "    while gesture not in gestures:\n",
    "        print('gesture not valid. Try again!')\n",
    "        gesture = input('Choose rock, paper or scissors: ')\n",
    "    return gesture"
   ]
  },
  {
   "cell_type": "markdown",
   "metadata": {},
   "source": [
    "#### 8. Define a function that checks who won a round. \n",
    "The function should return 0 if there is a tie, 1 if the computer wins and 2 if the player wins."
   ]
  },
  {
   "cell_type": "code",
   "execution_count": null,
   "metadata": {},
   "outputs": [],
   "source": [
    "def round_winner(cpu_gesture, player_gesture):\n",
    "    if cpu_gesture == player_gesture:\n",
    "        return 0\n",
    "    else:\n",
    "        if ((cpu_gesture == 'rock') & (player_gesture == 'scissors')) | ((cpu_gesture == 'scissors') & (player_gesture == 'paper')) | ((cpu_gesture == 'paper') & (player_gesture == 'rock')):\n",
    "            return 1\n",
    "        else:\n",
    "            return 2"
   ]
  },
  {
   "cell_type": "markdown",
   "metadata": {},
   "source": [
    "#### 9. Define a function that prints the choice of the computer, the choice of the player and a message that announces who won the current round. \n",
    "You should also use this function to update the variables that count the number of rounds that the computer and the player have won. The score of the winner increases by one point. If there is a tie, the score does not increase."
   ]
  },
  {
   "cell_type": "code",
   "execution_count": null,
   "metadata": {},
   "outputs": [],
   "source": [
    "def round_score():\n",
    "    player_gesture = player_choice()\n",
    "    cpu_gesture = cpu_choice()\n",
    "    print('The player chose', player_gesture, 'and the computer chose', cpu_gesture)\n",
    "    \n",
    "    if round_winner(cpu_gesture, player_gesture) == 0:\n",
    "        print('This round is a tie')\n",
    "    elif round_winner(cpu_gesture, player_gesture) == 1:\n",
    "        print('The computer wins this round')\n",
    "        global cpu_score\n",
    "        cpu_score += 1\n",
    "    elif round_winner(cpu_gesture, player_gesture) == 2:\n",
    "        print('The player wins this round')\n",
    "        global player_score\n",
    "        player_score += 1"
   ]
  },
  {
   "cell_type": "markdown",
   "metadata": {},
   "source": [
    "#### 10. Now it's time to code the execution of the game using the functions and variables you defined above. \n",
    "\n",
    "First, create a loop structure that repeats while no player reaches the minimum score necessary to win and the number of rounds is less than the maximum number of rounds to play in a game.  \n",
    "\n",
    "Inside the loop, use the functions and variables above to create the execution of a round: ask for the player's choice, generate the random choice of the computer, show the round results, update the scores, etc. "
   ]
  },
  {
   "cell_type": "code",
   "execution_count": null,
   "metadata": {},
   "outputs": [],
   "source": [
    "rounds = 1\n",
    "\n",
    "while ((cpu_score < rounds_to_win) & (player_score < rounds_to_win)) & (rounds <= n_rounds):\n",
    "    print('Round #', rounds)\n",
    "    round_score()\n",
    "    rounds += 1\n",
    "\n",
    "print('The computer won', cpu_score, 'rounds and the player won', player_score, 'rounds')"
   ]
  },
  {
   "cell_type": "markdown",
   "metadata": {},
   "source": [
    "#### 11. Print the winner of the game based on who won more rounds.\n",
    "Remember that the game might be tied. "
   ]
  },
  {
   "cell_type": "code",
   "execution_count": null,
   "metadata": {},
   "outputs": [],
   "source": [
    "if cpu_score > player_score:\n",
    "    print('The computer won the game!')\n",
    "elif cpu_score < player_score:\n",
    "    print('The player won the game!')\n",
    "else:\n",
    "    print('The game ended tied!')"
   ]
  },
  {
   "cell_type": "markdown",
   "metadata": {},
   "source": [
    "# Bonus: Rock, Paper, Scissors, Lizard & Spock\n",
    "![](images/rpsls.jpg)\n",
    "\n",
    "In this challenge, you need to improve the previous game by adding two new options. To know more about the rules of the improved version of rock, paper, scissors, check this [link](http://www.samkass.com/theories/RPSSL.html). \n",
    "\n",
    "In addition, you will also need to improve how the game interacts with the player: the number of rounds to play, which must be an odd number, will be requested to the user until a valid number is entered. Define a new function to make that request.\n",
    "\n",
    "**Hint**: Try to reuse the code that you already coded in the previous challenge. If your code is efficient, this bonus will only consist of simple modifications to the original game."
   ]
  },
  {
   "cell_type": "code",
   "execution_count": null,
   "metadata": {},
   "outputs": [],
   "source": [
    "#Imports\n",
    "from random import choice\n",
    "from random import randrange\n",
    "\n",
    "#Possible gestures\n",
    "gestures = ['rock', 'paper', 'scissors', 'spock', 'lizard']\n",
    "\n",
    "#Assuming a game doesn't have more than 19 rounds\n",
    "n_rounds = randrange(1,20,2)\n",
    "print('This game will have a maximum of', n_rounds, 'rounds')\n",
    "\n",
    "#Number of rounds the computer/player needs to win the game\n",
    "rounds_to_win = round((n_rounds + 1)/2)\n",
    "print('A game is won if one of the parties wins', rounds_to_win, 'rounds')\n",
    "\n",
    "#Initial scores set to zero\n",
    "cpu_score = 0\n",
    "player_score = 0\n",
    "\n",
    "#Choice of the computer\n",
    "def cpu_choice():\n",
    "    return choice(gestures)\n",
    "\n",
    "#Choice of the player\n",
    "def player_choice():\n",
    "    gesture = input('Choose rock, paper, scissors, spock or lizard: ')\n",
    "    while gesture not in gestures:\n",
    "        print('gesture not valid. Try again!')\n",
    "        gesture = input('Choose rock, paper, scissors, spock or lizard: ')\n",
    "    return gesture\n",
    "\n",
    "#Defining the round score\n",
    "def round_winner(cpu_gesture, player_gesture):\n",
    "    if cpu_gesture == player_gesture:\n",
    "        return 0\n",
    "    else:\n",
    "        if ((cpu_gesture == 'rock') & (player_gesture == 'scissors')) | ((cpu_gesture == 'rock') & (player_gesture == 'lizard')) | ((cpu_gesture == 'paper') & (player_gesture == 'rock')) | ((cpu_gesture == 'paper') & (player_gesture == 'spock')) | ((cpu_gesture == 'scissors') & (player_gesture == 'lizard')) | ((cpu_gesture == 'scissors') & (player_gesture == 'paper')) | ((cpu_gesture == 'spock') & (player_gesture == 'scissors')) | ((cpu_gesture == 'spock') & (player_gesture == 'rock')) | ((cpu_gesture == 'lizard') & (player_gesture == 'spock')) | ((cpu_gesture == 'lizard') & (player_gesture == 'paper')):\n",
    "            return 1\n",
    "        else:\n",
    "            return 2\n",
    "\n",
    "#Defining who wins the round        \n",
    "def round_score():\n",
    "    player_gesture = player_choice()\n",
    "    cpu_gesture = cpu_choice()\n",
    "    print('The player chose', player_gesture, 'and the computer chose', cpu_gesture)\n",
    "    \n",
    "    if round_winner(cpu_gesture, player_gesture) == 0:\n",
    "        print('This round is a tie')\n",
    "    elif round_winner(cpu_gesture, player_gesture) == 1:\n",
    "        print('The computer wins this round')\n",
    "        global cpu_score\n",
    "        cpu_score += 1\n",
    "    elif round_winner(cpu_gesture, player_gesture) == 2:\n",
    "        print('The player wins this round')\n",
    "        global player_score\n",
    "        player_score += 1\n",
    "\n",
    "#Execution of the game\n",
    "rounds = 1\n",
    "\n",
    "while ((cpu_score < rounds_to_win) & (player_score < rounds_to_win)) & (rounds <= n_rounds):\n",
    "    print('Round #', rounds)\n",
    "    round_score()\n",
    "    rounds += 1\n",
    "\n",
    "print('The computer won', cpu_score, 'rounds and the player won', player_score, 'rounds')\n",
    "\n",
    "#Defining who wins the game  \n",
    "if cpu_score > player_score:\n",
    "    print('The computer won the game!')\n",
    "elif cpu_score < player_score:\n",
    "    print('The player won the game!')\n",
    "else:\n",
    "    print('The game ended tied!')"
   ]
  }
 ],
 "metadata": {
  "kernelspec": {
   "display_name": "Python 3",
   "language": "python",
   "name": "python3"
  },
  "language_info": {
   "codemirror_mode": {
    "name": "ipython",
    "version": 3
   },
   "file_extension": ".py",
   "mimetype": "text/x-python",
   "name": "python",
   "nbconvert_exporter": "python",
   "pygments_lexer": "ipython3",
   "version": "3.7.4"
  }
 },
 "nbformat": 4,
 "nbformat_minor": 2
}
